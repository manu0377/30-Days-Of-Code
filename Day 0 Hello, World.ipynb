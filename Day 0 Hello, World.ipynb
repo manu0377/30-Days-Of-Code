{
 "cells": [
  {
   "cell_type": "code",
   "execution_count": null,
   "metadata": {},
   "outputs": [],
   "source": [
    "'''\n",
    "Objective \n",
    "\n",
    "In this challenge, we review some basic concepts that will get you started with this series. You will need to use the same (or similar) syntax to read input and write output in challenges throughout HackerRank. Check out the Tutorial tab for learning materials and an instructional video!\n",
    "\n",
    "Task \n",
    "\n",
    "To complete this challenge, you must save a line of input from stdin to a variable, print Hello, World. on a single line, and finally print the value of your variable on a second line.\n",
    "\n",
    "You've got this!\n",
    "\n",
    "Note: The instructions are Java-based, but we support submissions in many popular languages. You can switch languages using the drop-down menu above your editor, and the inputString variable may be written differently depending on the best-practice conventions of your submission language.\n",
    "\n",
    "Input Format\n",
    "\n",
    "A single line of text denoting inputString (the variable whose contents must be printed).\n",
    "\n",
    "Output Format\n",
    "\n",
    "Print Hello, World. on the first line, and the contents of inputString on the second line.\n",
    "\n",
    "Sample Input\n",
    "\n",
    "Welcome to 30 Days of Code!\n",
    "Sample Output\n",
    "\n",
    "Hello, World. \n",
    "Welcome to 30 Days of Code!\n",
    "\n",
    "Explanation\n",
    "\n",
    "On the first line, we print the string literal Hello, World.. On the second line, we print the contents of the variable which, for this sample case, happens to be Welcome to 30 Days of Code!. If you do not print the variable's contents to stdout, you will not pass the hidden test case.\n",
    "'''\n",
    "\n",
    "\n",
    "# Read a full line of input from stdin and save it to our dynamically typed variable, input_string.\n",
    "input_string = input()\n",
    "\n",
    "# Print a string literal saying \"Hello, World.\" to stdout.\n",
    "print('Hello, World.')\n",
    "\n",
    "# TODO: Write a line of code here that prints the contents of input_string to stdout.\n",
    "print(input_string)"
   ]
  },
  {
   "cell_type": "code",
   "execution_count": null,
   "metadata": {},
   "outputs": [],
   "source": []
  }
 ],
 "metadata": {
  "kernelspec": {
   "display_name": "Python 3",
   "language": "python",
   "name": "python3"
  },
  "language_info": {
   "codemirror_mode": {
    "name": "ipython",
    "version": 3
   },
   "file_extension": ".py",
   "mimetype": "text/x-python",
   "name": "python",
   "nbconvert_exporter": "python",
   "pygments_lexer": "ipython3",
   "version": "3.6.4"
  }
 },
 "nbformat": 4,
 "nbformat_minor": 2
}
