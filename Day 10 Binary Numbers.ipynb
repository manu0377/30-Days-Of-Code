{
 "cells": [
  {
   "cell_type": "code",
   "execution_count": 1,
   "metadata": {},
   "outputs": [
    {
     "name": "stdout",
     "output_type": "stream",
     "text": [
      "5\n",
      "1\n"
     ]
    }
   ],
   "source": [
    "'''\n",
    "Objective \n",
    "\n",
    "Today, we're working with binary numbers. Check out the Tutorial tab for learning materials and an instructional video!\n",
    "\n",
    "Task \n",
    "Given a base-10 integer, n, convert it to binary (base-2). Then find and print the base-10 integer denoting the maximum number of consecutive 1's in n's binary representation.\n",
    "\n",
    "Input Format\n",
    "\n",
    "A single integer, n.\n",
    "\n",
    "Constraints\n",
    "\n",
    ". 1<=n<=10**6\n",
    "\n",
    "Output Format\n",
    "\n",
    "Print a single base-10 integer denoting the maximum number of consecutive 1's in the binary representation of n.\n",
    "\n",
    "Sample Input 1\n",
    "\n",
    "5\n",
    "Sample Output 1\n",
    "\n",
    "1\n",
    "Sample Input 2\n",
    "\n",
    "13\n",
    "Sample Output 2\n",
    "\n",
    "2\n",
    "\n",
    "Explanation\n",
    "\n",
    "Sample Case 1: \n",
    "The binary representation of 5 is 101, so the maximum number of consecutive 1's is 1.\n",
    "\n",
    "Sample Case 2: \n",
    "The binary representation of 13 is 1101, so the maximum number of consecutive 1's is 2.\n",
    "'''\n",
    "\n",
    "\n",
    "#!/bin/python3\n",
    "\n",
    "import math\n",
    "import os\n",
    "import random\n",
    "import re\n",
    "import sys\n",
    "\n",
    "def max(a,b):\n",
    "    return a if a>b else b\n",
    "\n",
    "\n",
    "\n",
    "if __name__ == '__main__':\n",
    "    n = int(input())\n",
    "    max_num = 0\n",
    "    count = 0\n",
    "\n",
    "    while n:\n",
    "        while n&1:\n",
    "            count += 1\n",
    "            n>>=1\n",
    "        max_num = max(count, max_num)\n",
    "        if not n&1:\n",
    "            count = 0\n",
    "            n>>=1\n",
    "\n",
    "    print(max_num)\n"
   ]
  },
  {
   "cell_type": "code",
   "execution_count": null,
   "metadata": {},
   "outputs": [],
   "source": []
  },
  {
   "cell_type": "code",
   "execution_count": null,
   "metadata": {},
   "outputs": [],
   "source": []
  }
 ],
 "metadata": {
  "kernelspec": {
   "display_name": "Python 3",
   "language": "python",
   "name": "python3"
  },
  "language_info": {
   "codemirror_mode": {
    "name": "ipython",
    "version": 3
   },
   "file_extension": ".py",
   "mimetype": "text/x-python",
   "name": "python",
   "nbconvert_exporter": "python",
   "pygments_lexer": "ipython3",
   "version": "3.6.4"
  }
 },
 "nbformat": 4,
 "nbformat_minor": 2
}
