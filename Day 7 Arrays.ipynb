{
 "cells": [
  {
   "cell_type": "code",
   "execution_count": null,
   "metadata": {},
   "outputs": [],
   "source": [
    "'''\n",
    "Objective \n",
    "Today, we're learning about the Array data structure. Check out the Tutorial tab for learning materials and an instructional video!\n",
    "\n",
    "Task \n",
    "Given an array, A, of N integers, print A's elements in reverse order as a single line of space-separated numbers.\n",
    "\n",
    "Input Format\n",
    "\n",
    "The first line contains an integer, N (the size of our array). \n",
    "The second line contains N space-separated integers describing array A's elements.\n",
    "\n",
    "Constraints\n",
    "\n",
    ". 1<=N<=1000\n",
    ". 1<=Ai<=10000, where Ai is the ith integer in the array.\n",
    "Output Format\n",
    "\n",
    "Print the elements of array A in reverse order as a single line of space-separated numbers.\n",
    "\n",
    "Sample Input\n",
    "\n",
    "4\n",
    "1 4 3 2\n",
    "Sample Output\n",
    "\n",
    "2 3 4 1\n",
    "'''\n",
    "\n",
    "\n",
    "#!/bin/python3\n",
    "\n",
    "import math\n",
    "import os\n",
    "import random\n",
    "import re\n",
    "import sys\n",
    "\n",
    "\n",
    "\n",
    "if __name__ == '__main__':\n",
    "    n = int(input())\n",
    "\n",
    "    arr = list(map(int, input().rstrip().split()))\n",
    "    ans = \"\"\n",
    "    for i in range(len(arr)-1 , -1, -1):\n",
    "        ans += str(arr[i]) + \" \"\n",
    "\n",
    "    print(ans)\n"
   ]
  }
 ],
 "metadata": {
  "kernelspec": {
   "display_name": "Python 3",
   "language": "python",
   "name": "python3"
  },
  "language_info": {
   "codemirror_mode": {
    "name": "ipython",
    "version": 3
   },
   "file_extension": ".py",
   "mimetype": "text/x-python",
   "name": "python",
   "nbconvert_exporter": "python",
   "pygments_lexer": "ipython3",
   "version": "3.6.4"
  }
 },
 "nbformat": 4,
 "nbformat_minor": 2
}
