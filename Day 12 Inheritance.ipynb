{
 "cells": [
  {
   "cell_type": "code",
   "execution_count": null,
   "metadata": {},
   "outputs": [],
   "source": [
    "class Person:\n",
    "\tdef __init__(self, firstName, lastName, idNumber):\n",
    "\t\tself.firstName = firstName\n",
    "\t\tself.lastName = lastName\n",
    "\t\tself.idNumber = idNumber\n",
    "\tdef printPerson(self):\n",
    "\t\tprint(\"Name:\", self.lastName + \",\", self.firstName)\n",
    "\t\tprint(\"ID:\", self.idNumber)\n",
    "\n",
    "class Student(Person):\n",
    "    def __init__(self, fName, lName, sId, scores):\n",
    "        Person.__init__(self, fName, lName, sId)\n",
    "        self.scores = scores\n",
    "\n",
    "    def calculate(self):\n",
    "        avg=0.0\n",
    "        for score in scores:\n",
    "            avg += score\n",
    "        avg = avg/len(scores)\n",
    "        if (avg<40):\n",
    "            return 'T'\n",
    "        elif (avg<55):\n",
    "            return 'D'\n",
    "        elif (avg<70):\n",
    "            return 'P'\n",
    "        elif (avg<80):\n",
    "            return 'A'\n",
    "        elif (avg<90):\n",
    "            return 'E'\n",
    "        else:\n",
    "            return 'O'\n",
    "            \n",
    "line = input().split()\n",
    "firstName = line[0]\n",
    "lastName = line[1]\n",
    "idNum = line[2]\n",
    "numScores = int(input()) # not needed for Python\n",
    "scores = list( map(int, input().split()) )\n",
    "s = Student(firstName, lastName, idNum, scores)\n",
    "s.printPerson()\n",
    "print(\"Grade:\", s.calculate())"
   ]
  }
 ],
 "metadata": {
  "kernelspec": {
   "display_name": "Python 3",
   "language": "python",
   "name": "python3"
  },
  "language_info": {
   "codemirror_mode": {
    "name": "ipython",
    "version": 3
   },
   "file_extension": ".py",
   "mimetype": "text/x-python",
   "name": "python",
   "nbconvert_exporter": "python",
   "pygments_lexer": "ipython3",
   "version": "3.6.4"
  }
 },
 "nbformat": 4,
 "nbformat_minor": 2
}
