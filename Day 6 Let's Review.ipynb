{
 "cells": [
  {
   "cell_type": "code",
   "execution_count": 1,
   "metadata": {},
   "outputs": [
    {
     "name": "stdout",
     "output_type": "stream",
     "text": [
      "2\n",
      "hacker\n",
      "hce akr\n",
      "rank\n",
      "rn ak\n"
     ]
    }
   ],
   "source": [
    "'''\n",
    "Objective \n",
    "Today we're expanding our knowledge of Strings and combining it with what we've already learned about loops. Check out the Tutorial tab for learning materials and an instructional video!\n",
    "\n",
    "Task \n",
    "Given a string, S, of length N that is indexed from 0 to N-1, print its even-indexed and odd-indexed characters as 2 space-separated strings on a single line (see the Sample below for more detail).\n",
    "\n",
    "Note: 0 is considered to be an even index.\n",
    "\n",
    "Input Format\n",
    "\n",
    "The first line contains an integer, T (the number of test cases). \n",
    "Each line i of the T subsequent lines contain a String, S.\n",
    "\n",
    "Constraints\n",
    "\n",
    ". 1<=T<=10\n",
    ". 2<=length of S<=10000\n",
    "\n",
    "Output Format\n",
    "\n",
    "For each String Sj (where 0<=j<=T-1), print Sj's even-indexed characters, followed by a space, followed by Sj's odd-indexed characters.\n",
    "\n",
    "Sample Input\n",
    "\n",
    "2\n",
    "Hacker\n",
    "Rank\n",
    "Sample Output\n",
    "\n",
    "Hce akr\n",
    "Rn ak\n",
    "'''\n",
    "\n",
    "# Enter your code here. Read input from STDIN. Print output to STDOUT\n",
    "\n",
    "N = int(input())\n",
    "\n",
    "for i in range(0, N):\n",
    "\n",
    "    string = input()\n",
    "\n",
    "    for j in range(0, len(string)):\n",
    "        if j % 2 == 0:\n",
    "            print(string[j], end='')\n",
    "\n",
    "    print(\" \", end='')\n",
    "\n",
    "    for j in range(0, len(string)):\n",
    "        if j % 2 != 0:\n",
    "            print(string[j], end='')\n",
    "\n",
    "    print(\"\")"
   ]
  },
  {
   "cell_type": "code",
   "execution_count": null,
   "metadata": {},
   "outputs": [],
   "source": []
  }
 ],
 "metadata": {
  "kernelspec": {
   "display_name": "Python 3",
   "language": "python",
   "name": "python3"
  },
  "language_info": {
   "codemirror_mode": {
    "name": "ipython",
    "version": 3
   },
   "file_extension": ".py",
   "mimetype": "text/x-python",
   "name": "python",
   "nbconvert_exporter": "python",
   "pygments_lexer": "ipython3",
   "version": "3.6.4"
  }
 },
 "nbformat": 4,
 "nbformat_minor": 2
}
